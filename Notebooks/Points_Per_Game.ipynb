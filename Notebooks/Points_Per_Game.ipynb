{
 "cells": [
  {
   "attachments": {},
   "cell_type": "markdown",
   "metadata": {},
   "source": [
    "# NHL Player Analysis"
   ]
  },
  {
   "attachments": {},
   "cell_type": "markdown",
   "metadata": {},
   "source": [
    "## Notebook Setup"
   ]
  },
  {
   "cell_type": "code",
   "execution_count": null,
   "metadata": {},
   "outputs": [],
   "source": [
    "# Import libraries\n",
    "import pandas as pd\n",
    "import numpy as np\n",
    "import os.path as path\n",
    "from sklearn import preprocessing\n",
    "import warnings\n",
    "import math\n",
    "warnings.simplefilter(action = 'ignore', category = FutureWarning)\n",
    "warnings.simplefilter(action = 'ignore', category = UserWarning)"
   ]
  },
  {
   "cell_type": "code",
   "execution_count": null,
   "metadata": {},
   "outputs": [],
   "source": [
    "# Settings to allow all columns in dataframe to display\n",
    "desired_width = 320\n",
    "display_columns = 222\n",
    "pd.set_option('display.width', desired_width)\n",
    "np.set_printoptions(linewidth = desired_width)\n",
    "pd.set_option('display.max_columns', display_columns)"
   ]
  }
 ],
 "metadata": {
  "kernelspec": {
   "display_name": "UL",
   "language": "python",
   "name": "python3"
  },
  "language_info": {
   "name": "python",
   "version": "3.7.13"
  },
  "orig_nbformat": 4,
  "vscode": {
   "interpreter": {
    "hash": "e8aee62501f79103f215ef7fe414ae3f9317b0c35a15c0668f539335915cebee"
   }
  }
 },
 "nbformat": 4,
 "nbformat_minor": 2
}
